{
 "cells": [
  {
   "cell_type": "code",
   "execution_count": 7,
   "metadata": {},
   "outputs": [],
   "source": [
    "import pandas as pd\n",
    "import json"
   ]
  },
  {
   "cell_type": "code",
   "execution_count": 8,
   "metadata": {},
   "outputs": [],
   "source": [
    "file_path = './Clinical_and_Other_Features.xlsx'\n",
    "data = pd.read_excel(file_path, sheet_name='Data')"
   ]
  },
  {
   "cell_type": "code",
   "execution_count": 6,
   "metadata": {},
   "outputs": [
    {
     "name": "stdout",
     "output_type": "stream",
     "text": [
      "Columns in the dataset:\n",
      "Index(['Patient Information', 'MRI Technical Information', 'Unnamed: 2',\n",
      "       'Unnamed: 3', 'Unnamed: 4', 'Unnamed: 5', 'Unnamed: 6', 'Unnamed: 7',\n",
      "       'Unnamed: 8', 'Unnamed: 9', 'Unnamed: 10', 'Unnamed: 11', 'Unnamed: 12',\n",
      "       'Unnamed: 13', 'Unnamed: 14', 'Unnamed: 15', 'Unnamed: 16',\n",
      "       'Unnamed: 17', 'Unnamed: 18', 'Demographics', 'Unnamed: 20',\n",
      "       'Unnamed: 21', 'Unnamed: 22', 'Tumor Characteristics', 'Unnamed: 24',\n",
      "       'Unnamed: 25', 'Unnamed: 26', 'Unnamed: 27', 'Unnamed: 28',\n",
      "       'Unnamed: 29', 'Unnamed: 30', 'Unnamed: 31', 'Unnamed: 32',\n",
      "       'Unnamed: 33', 'Unnamed: 34', 'Unnamed: 35', 'Unnamed: 36',\n",
      "       'Unnamed: 37', 'Unnamed: 38', 'Unnamed: 39', 'Unnamed: 40',\n",
      "       'Unnamed: 41', 'Unnamed: 42', 'Unnamed: 43', 'Unnamed: 44',\n",
      "       'Unnamed: 45', 'Unnamed: 46', 'Unnamed: 47', 'MRI Findings',\n",
      "       'Unnamed: 49', 'Unnamed: 50', 'Unnamed: 51', 'Unnamed: 52', 'SURGERY',\n",
      "       'Unnamed: 54', 'Unnamed: 55', 'Radiation Therapy', 'Unnamed: 57',\n",
      "       'Tumor Response', 'Unnamed: 59', 'Recurrence', 'Unnamed: 61',\n",
      "       'Unnamed: 62', 'Follow Up', 'Unnamed: 64', 'Unnamed: 65', 'Unnamed: 66',\n",
      "       'BIRADS DATA', 'Mammography Characteristics', 'Unnamed: 69',\n",
      "       'Unnamed: 70', 'Unnamed: 71', 'Unnamed: 72', 'Unnamed: 73',\n",
      "       'Unnamed: 74', 'Unnamed: 75', 'US features', 'Unnamed: 77',\n",
      "       'Unnamed: 78', 'Unnamed: 79', 'Unnamed: 80', 'Unnamed: 81',\n",
      "       'Chemotherapy', 'Unnamed: 83', 'Endocrine Therapy', 'Unnamed: 85',\n",
      "       'Unnamed: 86', 'Unnamed: 87', 'Unnamed: 88', 'Anti-Her2 Neu Therapy',\n",
      "       'Unnamed: 90', 'Neoadjuvant therapy',\n",
      "       'Pathologic Response to Neoadjuvant Therapy', 'Unnamed: 93',\n",
      "       'Unnamed: 94', 'Near Complete Response', 'Unnamed: 96', 'Unnamed: 97'],\n",
      "      dtype='object')\n"
     ]
    }
   ],
   "source": [
    "print(\"Columns in the dataset:\")\n",
    "print(data.columns)"
   ]
  },
  {
   "cell_type": "code",
   "execution_count": 11,
   "metadata": {},
   "outputs": [
    {
     "name": "stdout",
     "output_type": "stream",
     "text": [
      "Unnamed: 20\n"
     ]
    }
   ],
   "source": [
    "race_and_ethnicity_col = data.columns[20]\n",
    "# Print the Race and Ethnicity column to verify\n",
    "try:\n",
    "    print(data[race_and_ethnicity_col])\n",
    "except KeyError as e:\n",
    "    print(f\"KeyError: {e}. Please check if the column names match exactly.\")"
   ]
  }
 ],
 "metadata": {
  "kernelspec": {
   "display_name": "DL_project",
   "language": "python",
   "name": "python3"
  },
  "language_info": {
   "codemirror_mode": {
    "name": "ipython",
    "version": 3
   },
   "file_extension": ".py",
   "mimetype": "text/x-python",
   "name": "python",
   "nbconvert_exporter": "python",
   "pygments_lexer": "ipython3",
   "version": "3.10.14"
  }
 },
 "nbformat": 4,
 "nbformat_minor": 2
}
