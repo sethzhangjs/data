{
 "cells": [
  {
   "cell_type": "code",
   "execution_count": 1,
   "metadata": {},
   "outputs": [],
   "source": [
    "import pandas as pd\n",
    "import json\n",
    "from pprint import pprint\n",
    "import random"
   ]
  },
  {
   "cell_type": "code",
   "execution_count": 2,
   "metadata": {},
   "outputs": [],
   "source": [
    "file_path = './Clinical_and_Other_Features.xlsx'\n",
    "data = pd.read_excel(file_path, sheet_name='Data')\n",
    "\n",
    "# print(\"Columns in the dataset:\")\n",
    "# print(data.columns)\n",
    "\n",
    "race_and_ethnicity_col = data.columns[21]\n",
    "tumor_characteristics_col = data.columns[23:27]\n",
    "mri_findings_col = data.columns[48:53]\n",
    "\n",
    "# Print\n",
    "# try:\n",
    "#     print(data[mri_findings_col])\n",
    "# except KeyError as e:\n",
    "#     print(f\"KeyError: {e}. Please check if the column names match exactly.\")"
   ]
  },
  {
   "cell_type": "code",
   "execution_count": 3,
   "metadata": {},
   "outputs": [],
   "source": [
    "# first_row_descriptions = data.iloc[0]\n",
    "# print(first_row_descriptions)\n",
    "\n",
    "# Race and Ethnicity 21\n",
    "'''{0 = N/A,1 = white,2 = black,3 = asian,4 = native,\n",
    "5 = hispanic,6 = multi,7 = hawa,8 = amer indian}'''\n",
    "race_mapping = {\n",
    "    0: 'Unknown', \n",
    "    1: 'White',\n",
    "    2: 'Black',\n",
    "    3: 'Asian',\n",
    "    4: 'Native American',\n",
    "    5: 'Hispanic',\n",
    "    6: 'Multiple Races',\n",
    "    7: 'Native Hawaiian',\n",
    "    8: 'American Indian'\n",
    "}\n",
    "\n",
    "# Tumor Characteristics 23-26\n",
    "# ER, PR\n",
    "tc_er_mapping = {0: 'Negative', 1: 'Positive'}\n",
    "tc_pr_mapping = {0: 'Negative', 1: 'Positive'}\n",
    "# HER2\n",
    "tc_her2_mapping = {0: 'Negative', 1: 'Positive', 2: 'Borderline'}\n",
    "# Molecular Subtype\n",
    "'''{0 = luminal-like,1 = ER/PR pos, HER2 pos,2 = her2,3 = trip neg}'''\n",
    "tc_molecular_subtype_mapping = {\n",
    "    0: 'Luminal-like',\n",
    "    1: 'ER/PR Positive, HER2 Positive',\n",
    "    2: 'HER2 Positive',\n",
    "    3: 'Triple Negative'\n",
    "}"
   ]
  },
  {
   "cell_type": "code",
   "execution_count": null,
   "metadata": {},
   "outputs": [],
   "source": [
    "def row_to_vqa_json(row, patient_id, qid):\n",
    "    questions = []\n",
    "    \n",
    "    # Race and Ethnicity\n",
    "    race_questions_variants = [\n",
    "        \"What is the patient's race and ethnicity?\",\n",
    "        \"Can you tell me the patient's race and ethnicity?\",\n",
    "        \"Please provide the patient's race and ethnicity.\"\n",
    "    ]\n",
    "    race_question = {\n",
    "        \"Qid\": qid,\n",
    "        \"Conversation\": {\n",
    "            \"User\": random.choice(race_questions_variants),\n",
    "            \"Gpt\": race_mapping.get(row[race_and_ethnicity_col], 'Unknown') + '.'\n",
    "        }\n",
    "    }\n",
    "    questions.append(race_question)\n",
    "    qid += 1\n",
    "\n",
    "    # Tumor Characteristics (ER, PR, HER2, Molecular Subtype)\n",
    "    # ER\n",
    "    tc_er_questions = [\n",
    "        \"What is the patient's ER status?\",\n",
    "        \"Can you tell me the patient's ER status?\",\n",
    "        \"Please provide the patient's ER status.\"\n",
    "    ]\n",
    "    tc_er_question = {\n",
    "        \"Qid\": qid,\n",
    "        \"Conversation\": {\n",
    "            \"User\": random.choice(tc_er_questions),\n",
    "            \"Gpt\": tc_er_mapping.get(row[tumor_characteristics_col[0]], 'Unknown') + '.'\n",
    "        }\n",
    "    }\n",
    "    questions.append(tc_er_question)\n",
    "    qid += 1\n",
    "\n",
    "    # PR\n",
    "    tc_pr_questions = [\n",
    "        \"What is the patient's PR status?\",\n",
    "        \"Can you tell me the patient's PR status?\",\n",
    "        \"Please provide the patient's PR status.\"\n",
    "    ]\n",
    "    tc_pr_question = {\n",
    "        \"qid\": qid,\n",
    "        \"Conversation\": {\n",
    "            \"User\": random.choice(tc_pr_questions),\n",
    "            \"Gpt\": tc_pr_mapping.get(row[tumor_characteristics_col[1]], 'Unknown') + '.'\n",
    "        }\n",
    "    }\n",
    "    questions.append(tc_pr_question)\n",
    "\n",
    "\n",
    "    vqa_json = {\n",
    "        \"Patient id\": patient_id,\n",
    "        \"Questions\": questions,\n",
    "        #\"Caption\": {},\n",
    "        \"meta\": {\n",
    "            \"dataset\": \"Duke-Breast-Cancer-MRI\",\n",
    "            \"location\": \"Breast\",\n",
    "            \"base_type\": \"vqa\",\n",
    "            \"answer_type\": \"CLOSE\",\n",
    "            \"column_name\": \"Race and Ethnicity\",\n",
    "            \"column_idx\": 21\n",
    "        }\n",
    "    }\n",
    "\n",
    "    return vqa_json, qid\n"
   ]
  },
  {
   "cell_type": "code",
   "execution_count": 72,
   "metadata": {},
   "outputs": [],
   "source": [
    "vqa_json_list = []\n",
    "global_qid = 1\n",
    "for i in range(2, len(data)):\n",
    "    patient_id = data.iloc[i][0]\n",
    "    row = data.iloc[i]\n",
    "    vqa_json, qid = row_to_vqa_json(row, patient_id, global_qid)\n",
    "    global_qid = qid + 1\n",
    "    vqa_json_list.append(vqa_json)"
   ]
  },
  {
   "cell_type": "code",
   "execution_count": 73,
   "metadata": {},
   "outputs": [
    {
     "name": "stdout",
     "output_type": "stream",
     "text": [
      "Saved to ./duke_vqa.json\n"
     ]
    }
   ],
   "source": [
    "# pprint(vqa_json_list)\n",
    "output_path = './duke_vqa.json'\n",
    "with open(output_path, 'w') as f:\n",
    "    json.dump(vqa_json_list, f, indent=4)\n",
    "    print(f\"Saved to {output_path}\")"
   ]
  }
 ],
 "metadata": {
  "kernelspec": {
   "display_name": "DL_project",
   "language": "python",
   "name": "python3"
  },
  "language_info": {
   "codemirror_mode": {
    "name": "ipython",
    "version": 3
   },
   "file_extension": ".py",
   "mimetype": "text/x-python",
   "name": "python",
   "nbconvert_exporter": "python",
   "pygments_lexer": "ipython3",
   "version": "3.10.14"
  }
 },
 "nbformat": 4,
 "nbformat_minor": 2
}
