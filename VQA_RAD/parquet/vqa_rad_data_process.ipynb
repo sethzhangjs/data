{
 "cells": [
  {
   "cell_type": "code",
   "execution_count": 2,
   "metadata": {},
   "outputs": [],
   "source": [
    "import os\n",
    "import json\n",
    "import pandas as pd\n",
    "import pyarrow as pa\n",
    "from PIL import Image\n",
    "import io\n",
    "import numpy as np\n",
    "import pickle"
   ]
  },
  {
   "cell_type": "code",
   "execution_count": 3,
   "metadata": {},
   "outputs": [],
   "source": [
    "with open('../VQA_RAD Dataset Public.json', 'r') as f:\n",
    "    data = json.load(f)\n",
    "\n",
    "image_folder_path = '../VQA_RAD Image Folder' \n",
    "\n",
    "data_X = {\n",
    "    'instanceID': [],\n",
    "    'images': [],\n",
    "    # 'segmentations': [],  \n",
    "    # 'report_text': [],\n",
    "    'caption': [],\n",
    "    #'label': [],\n",
    "    'metadata': []\n",
    "}\n",
    "\n",
    "def image_to_numpy(image_path):\n",
    "    with Image.open(image_path) as img:\n",
    "        # convert to rgb\n",
    "        img = img.convert('RGB')\n",
    "        # to serialized numpy array\n",
    "        img = img.resize((224, 224))\n",
    "        img_array = np.array(img)\n",
    "        img_bytes = pickle.dumps(img_array)\n",
    "        return img_bytes\n",
    "\n",
    "\n",
    "for entry in data:\n",
    "    instanceID = entry['qid_linked_id']\n",
    "    image_name = entry['image_name']\n",
    "    \n",
    "    # Define Caption = Question + Answer\n",
    "    caption = f\"Organ: {entry['image_organ']} Question: {entry['question']} Answer: {entry['answer']}\"\n",
    "    \n",
    "    image_path = os.path.join(image_folder_path, image_name)\n",
    "    \n",
    "    image_data = image_to_numpy(image_path)\n",
    "    \n",
    "    metadata = {\n",
    "        'dataset': \"VQA_RAD\",\n",
    "        'image_organs': entry['image_organ'],\n",
    "        'phrase_type': entry['phrase_type'],\n",
    "        'evaluation': entry['evaluation'],\n",
    "        'question_type': entry['question_type'],\n",
    "        'answer_type': entry['answer_type']\n",
    "    }\n",
    "    \n",
    "    \n",
    "    data_X['instanceID'].append(instanceID)\n",
    "    data_X['images'].append(image_data)  \n",
    "    data_X['caption'].append(caption)\n",
    "    # data_X['label'].append(entry['image_organ']) # To-do\n",
    "    data_X['metadata'].append(metadata)\n",
    "    \n",
    "    # data_X['segmentations'].append(None)  \n",
    "    # data_X['report_text'].append(None)  "
   ]
  },
  {
   "cell_type": "code",
   "execution_count": 4,
   "metadata": {},
   "outputs": [
    {
     "name": "stdout",
     "output_type": "stream",
     "text": [
      "                             instanceID   \n",
      "0  03f451ca-de62-4617-9679-e836026a7642  \\\n",
      "1  06e26b2c-04b9-42bc-8e98-1de30a0f7682   \n",
      "2  0d0e8b6b-7753-4788-9b6d-dc7f25250c3f   \n",
      "3  0e90b6bc-265f-490b-a039-509b9907a3cb   \n",
      "4  1179f612-12e0-4dda-aee0-f14a5200be7b   \n",
      "5  2415ba3a-3044-4d68-a99f-21249b892970   \n",
      "6  27169439-b749-4b2f-8abe-bfb57a46ce53   \n",
      "7  31b7e566-757d-4758-a2a8-c3025e06a6b3   \n",
      "8  38319c99-665d-4ad8-a49b-4d539a745647   \n",
      "9  399e22da-72d5-4078-9703-8156b5091875   \n",
      "\n",
      "                                              images   \n",
      "0  b'\\x80\\x04\\x95\\x85\\x00\\x00\\x00\\x00\\x00\\x00\\x00...  \\\n",
      "1  b'\\x80\\x04\\x95\\x85\\x00\\x00\\x00\\x00\\x00\\x00\\x00...   \n",
      "2  b'\\x80\\x04\\x95\\x85\\x00\\x00\\x00\\x00\\x00\\x00\\x00...   \n",
      "3  b'\\x80\\x04\\x95\\x85\\x00\\x00\\x00\\x00\\x00\\x00\\x00...   \n",
      "4  b'\\x80\\x04\\x95\\x85\\x00\\x00\\x00\\x00\\x00\\x00\\x00...   \n",
      "5  b'\\x80\\x04\\x95\\x85\\x00\\x00\\x00\\x00\\x00\\x00\\x00...   \n",
      "6  b'\\x80\\x04\\x95\\x85\\x00\\x00\\x00\\x00\\x00\\x00\\x00...   \n",
      "7  b'\\x80\\x04\\x95\\x85\\x00\\x00\\x00\\x00\\x00\\x00\\x00...   \n",
      "8  b'\\x80\\x04\\x95\\x85\\x00\\x00\\x00\\x00\\x00\\x00\\x00...   \n",
      "9  b'\\x80\\x04\\x95\\x85\\x00\\x00\\x00\\x00\\x00\\x00\\x00...   \n",
      "\n",
      "                                             caption   \n",
      "0  Organ: HEAD Question: Are regions of the brain...  \\\n",
      "1  Organ: CHEST Question: Are the lungs normal ap...   \n",
      "2  Organ: CHEST Question: Is there evidence of a ...   \n",
      "3  Organ: CHEST Question: What type of imaging do...   \n",
      "4  Organ: CHEST Question: Is this a MRI of the ch...   \n",
      "5  Organ: CHEST Question: What is not pictured in...   \n",
      "6  Organ: CHEST Question: Is the trachea midline?...   \n",
      "7  Organ: CHEST Question: Is there evidence of an...   \n",
      "8  Organ: HEAD Question: Where is the abnormality...   \n",
      "9  Organ: CHEST Question: Is there blunting of th...   \n",
      "\n",
      "                                            metadata  \n",
      "0  {'dataset': 'VQA_RAD', 'image_organs': 'HEAD',...  \n",
      "1  {'dataset': 'VQA_RAD', 'image_organs': 'CHEST'...  \n",
      "2  {'dataset': 'VQA_RAD', 'image_organs': 'CHEST'...  \n",
      "3  {'dataset': 'VQA_RAD', 'image_organs': 'CHEST'...  \n",
      "4  {'dataset': 'VQA_RAD', 'image_organs': 'CHEST'...  \n",
      "5  {'dataset': 'VQA_RAD', 'image_organs': 'CHEST'...  \n",
      "6  {'dataset': 'VQA_RAD', 'image_organs': 'CHEST'...  \n",
      "7  {'dataset': 'VQA_RAD', 'image_organs': 'CHEST'...  \n",
      "8  {'dataset': 'VQA_RAD', 'image_organs': 'HEAD',...  \n",
      "9  {'dataset': 'VQA_RAD', 'image_organs': 'CHEST'...  \n"
     ]
    }
   ],
   "source": [
    "df = pd.DataFrame(data_X)\n",
    "print(df.head(10))"
   ]
  },
  {
   "cell_type": "code",
   "execution_count": 5,
   "metadata": {},
   "outputs": [],
   "source": [
    "# convert to parquet\n",
    "df.to_parquet('VQA_RAD.parquet', index=False)"
   ]
  }
 ],
 "metadata": {
  "kernelspec": {
   "display_name": "DL_Project",
   "language": "python",
   "name": "python3"
  },
  "language_info": {
   "codemirror_mode": {
    "name": "ipython",
    "version": 3
   },
   "file_extension": ".py",
   "mimetype": "text/x-python",
   "name": "python",
   "nbconvert_exporter": "python",
   "pygments_lexer": "ipython3",
   "version": "3.10.14"
  }
 },
 "nbformat": 4,
 "nbformat_minor": 2
}
