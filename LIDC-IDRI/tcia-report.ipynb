{
 "cells": [
  {
   "cell_type": "code",
   "execution_count": 34,
   "metadata": {},
   "outputs": [],
   "source": [
    "import pandas as pd\n",
    "\n",
    "file_path = './tcia-diagnosis-data-2012-04-20.xlsx'\n",
    "data = pd.read_excel(file_path)\n",
    "\n",
    "# rename the columns\n",
    "data.columns = ['pid', 'diagnosis', 'method', 'tumor', 'n1', 'n1_method', 'n2', 'n2_method', 'n3', 'n3_method', 'n4', 'n4_method', 'n5', 'n5_method']\n",
    "\n",
    "diagnosis_dict = {\n",
    "    0: 'unknown',\n",
    "    1: 'benign or non-malignant disease',\n",
    "    2: 'malignant, primary lung cancer',\n",
    "    3: 'malignant metastatic'\n",
    "}\n",
    "\n",
    "diagnosis_method_dict = {\n",
    "    0: 'unknown',\n",
    "    1: 'review of radiological images to show 2 years of stable nodule',\n",
    "    2: 'biopsy',\n",
    "    3: 'surgical resection',\n",
    "    4: 'progression or response'\n",
    "}\n",
    "\n",
    "nodule_diagnosis_dict = {\n",
    "    0: 'unknown',\n",
    "    1: 'benign or non-malignant disease',\n",
    "    2: 'malignant, primary lung cancer',\n",
    "    3: 'malignant metastatic'\n",
    "}\n",
    "\n",
    "nodule_method_dict = {\n",
    "    0: 'unknown',\n",
    "    1: 'review of radiological images to show 2 years of stable nodule',\n",
    "    2: 'biopsy',\n",
    "    3: 'surgical resection',\n",
    "    4: 'progression or response'\n",
    "}"
   ]
  },
  {
   "cell_type": "code",
   "execution_count": 35,
   "metadata": {},
   "outputs": [],
   "source": [
    "def ordinal(n):\n",
    "    ordinals = {1: 'first', 2: 'second', 3: 'third', 4: 'fourth', 5: 'fifth'}\n",
    "    return ordinals.get(n, f\"{n}th\")\n",
    "\n",
    "def generate_report(row):\n",
    "    diagnosis = diagnosis_dict.get(row['diagnosis'], 'unknown')\n",
    "    diagnosis_method = diagnosis_method_dict.get(row['method'], 'unknown')\n",
    "    primary_tumor_site = row['tumor'] if pd.notna(row['tumor']) else 'unknown'\n",
    "    \n",
    "    report = (f\"The patient was diagnosed with {diagnosis}, \")\n",
    "    if diagnosis_method != 'unknown':\n",
    "        report += (f\"which was determined by {diagnosis_method}, \")\n",
    "\n",
    "    report += (f\"The primary tumor site for metastatic disease is {primary_tumor_site}.\")\n",
    "    \n",
    "    for i in range(1, 6):\n",
    "        nodule = row.get(f'n{i}', None)\n",
    "        nodule_method = row.get(f'n{i}_method', None)\n",
    "        \n",
    "        if pd.notna(nodule):\n",
    "            nodule_diagnosis = nodule_diagnosis_dict.get(nodule, 'unknown')\n",
    "            nodule_diagnosis_method = nodule_method_dict.get(nodule_method, 'unknown')\n",
    "            report += f\" The {ordinal(i)} nodule was diagnosed as {nodule_diagnosis}, which was determined by {nodule_diagnosis_method}.\"\n",
    "\n",
    "    return report\n",
    "\n",
    "data['report'] = data.apply(generate_report, axis=1)"
   ]
  },
  {
   "cell_type": "code",
   "execution_count": 36,
   "metadata": {},
   "outputs": [
    {
     "name": "stdout",
     "output_type": "stream",
     "text": [
      "The patient was diagnosed with malignant metastatic, which was determined by progression or response, The primary tumor site for metastatic disease is Head & Neck Cancer. The first nodule was diagnosed as malignant metastatic, which was determined by progression or response.\n",
      "The patient was diagnosed with malignant metastatic, which was determined by review of radiological images to show 2 years of stable nodule, The primary tumor site for metastatic disease is Head & Neck . The first nodule was diagnosed as benign or non-malignant disease, which was determined by review of radiological images to show 2 years of stable nodule.\n",
      "The patient was diagnosed with malignant, primary lung cancer, which was determined by progression or response, The primary tumor site for metastatic disease is Lung Cancer. The first nodule was diagnosed as benign or non-malignant disease, which was determined by progression or response.\n",
      "The patient was diagnosed with malignant metastatic, The primary tumor site for metastatic disease is Uterine Cancer. The first nodule was diagnosed as unknown, which was determined by unknown.\n",
      "The patient was diagnosed with malignant, primary lung cancer, which was determined by surgical resection, The primary tumor site for metastatic disease is NSCLC. The first nodule was diagnosed as malignant, primary lung cancer, which was determined by surgical resection.\n"
     ]
    }
   ],
   "source": [
    "for report in data['report'].head():\n",
    "    print(report)"
   ]
  },
  {
   "cell_type": "code",
   "execution_count": 37,
   "metadata": {},
   "outputs": [
    {
     "name": "stdout",
     "output_type": "stream",
     "text": [
      "Reports have been successfully generated and saved to patient_report.xlsx\n"
     ]
    }
   ],
   "source": [
    "output_file = 'patient_report.xlsx'\n",
    "data[['pid', 'report']].to_excel(output_file, index=False)\n",
    "\n",
    "print(f\"Reports have been successfully generated and saved to {output_file}\")"
   ]
  }
 ],
 "metadata": {
  "kernelspec": {
   "display_name": "DL_project",
   "language": "python",
   "name": "python3"
  },
  "language_info": {
   "codemirror_mode": {
    "name": "ipython",
    "version": 3
   },
   "file_extension": ".py",
   "mimetype": "text/x-python",
   "name": "python",
   "nbconvert_exporter": "python",
   "pygments_lexer": "ipython3",
   "version": "3.10.14"
  }
 },
 "nbformat": 4,
 "nbformat_minor": 2
}
