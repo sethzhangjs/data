{
 "cells": [
  {
   "cell_type": "code",
   "execution_count": 6,
   "metadata": {},
   "outputs": [
    {
     "name": "stdout",
     "output_type": "stream",
     "text": [
      "              pid  diagnosis  method               tumor   n1  n1_method  n2   \n",
      "0  LIDC-IDRI-0068          3       4  Head & Neck Cancer  3.0        4.0 NaN  \\\n",
      "1  LIDC-IDRI-0071          3       1        Head & Neck   1.0        1.0 NaN   \n",
      "2  LIDC-IDRI-0072          2       4         Lung Cancer  1.0        4.0 NaN   \n",
      "3  LIDC-IDRI-0088          3       0      Uterine Cancer  0.0        0.0 NaN   \n",
      "4  LIDC-IDRI-0090          2       3               NSCLC  2.0        3.0 NaN   \n",
      "\n",
      "   n2_method   n3 n3_method  n4  n4_method  n5  n5_method  \n",
      "0        NaN  NaN       NaN NaN        NaN NaN        NaN  \n",
      "1        NaN  NaN       NaN NaN        NaN NaN        NaN  \n",
      "2        NaN  NaN       NaN NaN        NaN NaN        NaN  \n",
      "3        NaN  NaN       NaN NaN        NaN NaN        NaN  \n",
      "4        NaN  NaN       NaN NaN        NaN NaN        NaN  \n"
     ]
    }
   ],
   "source": [
    "import pandas as pd\n",
    "\n",
    "file_path = './tcia-diagnosis-data-2012-04-20.xlsx'\n",
    "data = pd.read_excel(file_path)\n",
    "\n",
    "# rename the columns\n",
    "data.columns = ['pid', 'diagnosis', 'method', 'tumor', 'n1', 'n1_method', 'n2', 'n2_method', 'n3', 'n3_method', 'n4', 'n4_method', 'n5', 'n5_method']\n",
    "\n",
    "print(data.head())"
   ]
  },
  {
   "cell_type": "code",
   "execution_count": 15,
   "metadata": {},
   "outputs": [
    {
     "name": "stdout",
     "output_type": "stream",
     "text": [
      "The patient was diagnosed as having malignant metastatic, which was determined by progression or response. The primary tumor site was found to be Head & Neck Cancer. The first nodule was diagnosed as malignant metastatic, which was determined by progression or response.\n",
      "The patient was diagnosed as having malignant metastatic, which was determined by review of radiological images to show 2 years of stable nodule. The primary tumor site was found to be Head & Neck . The first nodule was diagnosed as benign or non-malignant disease, which was determined by review of radiological images to show 2 years of stable nodule.\n",
      "The patient was diagnosed as having malignant, primary lung cancer, which was determined by progression or response. The primary tumor site was found to be Lung Cancer. The first nodule was diagnosed as benign or non-malignant disease, which was determined by progression or response.\n",
      "The patient was diagnosed as having malignant metastatic, which was determined by unknown. The primary tumor site was found to be Uterine Cancer.\n",
      "The patient was diagnosed as having malignant, primary lung cancer, which was determined by surgical resection. The primary tumor site was found to be NSCLC. The first nodule was diagnosed as malignant, primary lung cancer, which was determined by surgical resection.\n"
     ]
    }
   ],
   "source": [
    "diagnosis_dict = {\n",
    "    0: 'unknown',\n",
    "    1: 'benign or non-malignant disease',\n",
    "    2: 'malignant, primary lung cancer',\n",
    "    3: 'malignant metastatic'\n",
    "}\n",
    "\n",
    "diagnosis_method_dict = {\n",
    "    0: 'unknown',\n",
    "    1: 'review of radiological images to show 2 years of stable nodule',\n",
    "    2: 'biopsy',\n",
    "    3: 'surgical resection',\n",
    "    4: 'progression or response'\n",
    "}\n",
    "\n",
    "nodule_diagnosis_dict = {\n",
    "    0: 'unknown',\n",
    "    1: 'benign or non-malignant disease',\n",
    "    2: 'malignant, primary lung cancer',\n",
    "    3: 'malignant metastatic'\n",
    "}\n",
    "\n",
    "nodule_method_dict = {\n",
    "    0: 'unknown',\n",
    "    1: 'review of radiological images to show 2 years of stable nodule',\n",
    "    2: 'biopsy',\n",
    "    3: 'surgical resection',\n",
    "    4: 'progression or response'\n",
    "}\n",
    "\n",
    "\n",
    "def generate_report(row):\n",
    "    diagnosis = diagnosis_dict.get(row['diagnosis'], 'unknown')\n",
    "    diagnosis_method = diagnosis_method_dict.get(row['method'], 'unknown')\n",
    "    primary_tumor_site = row['tumor'] if pd.notna(row['tumor']) else 'unknown'\n",
    "    # nodules 1-5\n",
    "    nodule1 = row['n1'] if pd.notna(row['n1']) else None\n",
    "    nodule1_method = row['n1_method'] if pd.notna(row['n1_method']) else None\n",
    "    nodule2 = row['n2'] if pd.notna(row['n2']) else None\n",
    "    nodule2_method = row['n2_method'] if pd.notna(row['n2_method']) else None\n",
    "    nodule3 = row['n3'] if pd.notna(row['n3']) else None\n",
    "    nodule3_method = row['n3_method'] if pd.notna(row['n3_method']) else None\n",
    "    nodule4 = row['n4'] if pd.notna(row['n4']) else None\n",
    "    nodule4_method = row['n4_method'] if pd.notna(row['n4_method']) else None\n",
    "    nodule5 = row['n5'] if pd.notna(row['n5']) else None\n",
    "    nodule5_method = row['n5_method'] if pd.notna(row['n5_method']) else None\n",
    "    \n",
    "    report = (f\"The patient was diagnosed as having {diagnosis}, \"\n",
    "              f\"which was determined by {diagnosis_method}. \"\n",
    "              f\"The primary tumor site was found to be {primary_tumor_site}.\")\n",
    "    \n",
    "    if nodule1:\n",
    "        report += f\" The first nodule was diagnosed as {nodule_diagnosis_dict.get(nodule1, 'unknown')}, which was determined by {nodule_method_dict.get(nodule1_method, 'unknown')}.\"\n",
    "    if nodule2:\n",
    "        report += f\" The second nodule was diagnosed as {nodule_diagnosis_dict.get(nodule2, 'unknown')}, which was determined by {nodule_method_dict.get(nodule2_method, 'unknown')}.\"\n",
    "    if nodule3:\n",
    "        report += f\" The third nodule was diagnosed as {nodule_diagnosis_dict.get(nodule3, 'unknown')}, which was determined by {nodule_method_dict.get(nodule3_method, 'unknown')}.\"\n",
    "    if nodule4:\n",
    "        report += f\" The fourth nodule was diagnosed as {nodule_diagnosis_dict.get(nodule4, 'unknown')}, which was determined by {nodule_method_dict.get(nodule4_method, 'unknown')}.\"\n",
    "    if nodule5:\n",
    "        report += f\" The fifth nodule was diagnosed as {nodule_diagnosis_dict.get(nodule5, 'unknown')}, which was determined by {nodule_method_dict.get(nodule5_method, 'unknown')}.\"\n",
    "\n",
    "    return report\n",
    "\n",
    "data['Report'] = data.apply(generate_report, axis=1)\n",
    "\n",
    "# for report in data['Report'].head():\n",
    "#     print(report)"
   ]
  },
  {
   "cell_type": "code",
   "execution_count": null,
   "metadata": {},
   "outputs": [],
   "source": [
    "print(data['Report'])"
   ]
  },
  {
   "cell_type": "code",
   "execution_count": null,
   "metadata": {},
   "outputs": [],
   "source": [
    "output_file = 'patient_report_with_text.xlsx'\n",
    "data[['Patient_ID', 'Report']].to_excel(output_file, index=False)\n",
    "\n",
    "print(f\"Reports have been successfully generated and saved to {output_file}\")"
   ]
  }
 ],
 "metadata": {
  "kernelspec": {
   "display_name": "DL_project",
   "language": "python",
   "name": "python3"
  },
  "language_info": {
   "codemirror_mode": {
    "name": "ipython",
    "version": 3
   },
   "file_extension": ".py",
   "mimetype": "text/x-python",
   "name": "python",
   "nbconvert_exporter": "python",
   "pygments_lexer": "ipython3",
   "version": "3.10.14"
  }
 },
 "nbformat": 4,
 "nbformat_minor": 2
}
