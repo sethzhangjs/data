{
 "cells": [
  {
   "cell_type": "code",
   "execution_count": 25,
   "metadata": {},
   "outputs": [],
   "source": [
    "import pandas as pd\n",
    "\n",
    "file_path = './tcia-diagnosis-data-2012-04-20.xlsx'\n",
    "data = pd.read_excel(file_path)\n",
    "\n",
    "# rename the columns\n",
    "data.columns = ['pid', 'diagnosis', 'method', 'tumor', 'n1', 'n1_method', 'n2', 'n2_method', 'n3', 'n3_method', 'n4', 'n4_method', 'n5', 'n5_method']\n",
    "\n",
    "diagnosis_dict = {\n",
    "    0: 'unknown',\n",
    "    1: 'benign or non-malignant disease',\n",
    "    2: 'malignant, primary lung cancer',\n",
    "    3: 'malignant metastatic'\n",
    "}\n",
    "\n",
    "diagnosis_method_dict = {\n",
    "    0: 'unknown',\n",
    "    1: 'review of radiological images to show 2 years of stable nodule',\n",
    "    2: 'biopsy',\n",
    "    3: 'surgical resection',\n",
    "    4: 'progression or response'\n",
    "}\n",
    "\n",
    "nodule_diagnosis_dict = {\n",
    "    0: 'unknown',\n",
    "    1: 'benign or non-malignant disease',\n",
    "    2: 'malignant, primary lung cancer',\n",
    "    3: 'malignant metastatic'\n",
    "}\n",
    "\n",
    "nodule_method_dict = {\n",
    "    0: 'unknown',\n",
    "    1: 'review of radiological images to show 2 years of stable nodule',\n",
    "    2: 'biopsy',\n",
    "    3: 'surgical resection',\n",
    "    4: 'progression or response'\n",
    "}"
   ]
  },
  {
   "cell_type": "code",
   "execution_count": 27,
   "metadata": {},
   "outputs": [
    {
     "ename": "NameError",
     "evalue": "name 'ordinal' is not defined",
     "output_type": "error",
     "traceback": [
      "\u001b[0;31m---------------------------------------------------------------------------\u001b[0m",
      "\u001b[0;31mNameError\u001b[0m                                 Traceback (most recent call last)",
      "Cell \u001b[0;32mIn[27], line 36\u001b[0m\n\u001b[1;32m     32\u001b[0m     \u001b[38;5;28;01mreturn\u001b[39;00m report\n\u001b[1;32m     34\u001b[0m     \u001b[38;5;28;01mreturn\u001b[39;00m report\n\u001b[0;32m---> 36\u001b[0m data[\u001b[38;5;124m'\u001b[39m\u001b[38;5;124mreport\u001b[39m\u001b[38;5;124m'\u001b[39m] \u001b[38;5;241m=\u001b[39m \u001b[43mdata\u001b[49m\u001b[38;5;241;43m.\u001b[39;49m\u001b[43mapply\u001b[49m\u001b[43m(\u001b[49m\u001b[43mgenerate_report\u001b[49m\u001b[43m,\u001b[49m\u001b[43m \u001b[49m\u001b[43maxis\u001b[49m\u001b[38;5;241;43m=\u001b[39;49m\u001b[38;5;241;43m1\u001b[39;49m\u001b[43m)\u001b[49m\n",
      "File \u001b[0;32m~/.conda/envs/DL_project/lib/python3.10/site-packages/pandas/core/frame.py:9433\u001b[0m, in \u001b[0;36mDataFrame.apply\u001b[0;34m(self, func, axis, raw, result_type, args, **kwargs)\u001b[0m\n\u001b[1;32m   9422\u001b[0m \u001b[38;5;28;01mfrom\u001b[39;00m \u001b[38;5;21;01mpandas\u001b[39;00m\u001b[38;5;21;01m.\u001b[39;00m\u001b[38;5;21;01mcore\u001b[39;00m\u001b[38;5;21;01m.\u001b[39;00m\u001b[38;5;21;01mapply\u001b[39;00m \u001b[38;5;28;01mimport\u001b[39;00m frame_apply\n\u001b[1;32m   9424\u001b[0m op \u001b[38;5;241m=\u001b[39m frame_apply(\n\u001b[1;32m   9425\u001b[0m     \u001b[38;5;28mself\u001b[39m,\n\u001b[1;32m   9426\u001b[0m     func\u001b[38;5;241m=\u001b[39mfunc,\n\u001b[0;32m   (...)\u001b[0m\n\u001b[1;32m   9431\u001b[0m     kwargs\u001b[38;5;241m=\u001b[39mkwargs,\n\u001b[1;32m   9432\u001b[0m )\n\u001b[0;32m-> 9433\u001b[0m \u001b[38;5;28;01mreturn\u001b[39;00m \u001b[43mop\u001b[49m\u001b[38;5;241;43m.\u001b[39;49m\u001b[43mapply\u001b[49m\u001b[43m(\u001b[49m\u001b[43m)\u001b[49m\u001b[38;5;241m.\u001b[39m__finalize__(\u001b[38;5;28mself\u001b[39m, method\u001b[38;5;241m=\u001b[39m\u001b[38;5;124m\"\u001b[39m\u001b[38;5;124mapply\u001b[39m\u001b[38;5;124m\"\u001b[39m)\n",
      "File \u001b[0;32m~/.conda/envs/DL_project/lib/python3.10/site-packages/pandas/core/apply.py:678\u001b[0m, in \u001b[0;36mFrameApply.apply\u001b[0;34m(self)\u001b[0m\n\u001b[1;32m    675\u001b[0m \u001b[38;5;28;01melif\u001b[39;00m \u001b[38;5;28mself\u001b[39m\u001b[38;5;241m.\u001b[39mraw:\n\u001b[1;32m    676\u001b[0m     \u001b[38;5;28;01mreturn\u001b[39;00m \u001b[38;5;28mself\u001b[39m\u001b[38;5;241m.\u001b[39mapply_raw()\n\u001b[0;32m--> 678\u001b[0m \u001b[38;5;28;01mreturn\u001b[39;00m \u001b[38;5;28;43mself\u001b[39;49m\u001b[38;5;241;43m.\u001b[39;49m\u001b[43mapply_standard\u001b[49m\u001b[43m(\u001b[49m\u001b[43m)\u001b[49m\n",
      "File \u001b[0;32m~/.conda/envs/DL_project/lib/python3.10/site-packages/pandas/core/apply.py:798\u001b[0m, in \u001b[0;36mFrameApply.apply_standard\u001b[0;34m(self)\u001b[0m\n\u001b[1;32m    797\u001b[0m \u001b[38;5;28;01mdef\u001b[39;00m \u001b[38;5;21mapply_standard\u001b[39m(\u001b[38;5;28mself\u001b[39m):\n\u001b[0;32m--> 798\u001b[0m     results, res_index \u001b[38;5;241m=\u001b[39m \u001b[38;5;28;43mself\u001b[39;49m\u001b[38;5;241;43m.\u001b[39;49m\u001b[43mapply_series_generator\u001b[49m\u001b[43m(\u001b[49m\u001b[43m)\u001b[49m\n\u001b[1;32m    800\u001b[0m     \u001b[38;5;66;03m# wrap results\u001b[39;00m\n\u001b[1;32m    801\u001b[0m     \u001b[38;5;28;01mreturn\u001b[39;00m \u001b[38;5;28mself\u001b[39m\u001b[38;5;241m.\u001b[39mwrap_results(results, res_index)\n",
      "File \u001b[0;32m~/.conda/envs/DL_project/lib/python3.10/site-packages/pandas/core/apply.py:814\u001b[0m, in \u001b[0;36mFrameApply.apply_series_generator\u001b[0;34m(self)\u001b[0m\n\u001b[1;32m    811\u001b[0m \u001b[38;5;28;01mwith\u001b[39;00m option_context(\u001b[38;5;124m\"\u001b[39m\u001b[38;5;124mmode.chained_assignment\u001b[39m\u001b[38;5;124m\"\u001b[39m, \u001b[38;5;28;01mNone\u001b[39;00m):\n\u001b[1;32m    812\u001b[0m     \u001b[38;5;28;01mfor\u001b[39;00m i, v \u001b[38;5;129;01min\u001b[39;00m \u001b[38;5;28menumerate\u001b[39m(series_gen):\n\u001b[1;32m    813\u001b[0m         \u001b[38;5;66;03m# ignore SettingWithCopy here in case the user mutates\u001b[39;00m\n\u001b[0;32m--> 814\u001b[0m         results[i] \u001b[38;5;241m=\u001b[39m \u001b[38;5;28;43mself\u001b[39;49m\u001b[38;5;241;43m.\u001b[39;49m\u001b[43mf\u001b[49m\u001b[43m(\u001b[49m\u001b[43mv\u001b[49m\u001b[43m)\u001b[49m\n\u001b[1;32m    815\u001b[0m         \u001b[38;5;28;01mif\u001b[39;00m \u001b[38;5;28misinstance\u001b[39m(results[i], ABCSeries):\n\u001b[1;32m    816\u001b[0m             \u001b[38;5;66;03m# If we have a view on v, we need to make a copy because\u001b[39;00m\n\u001b[1;32m    817\u001b[0m             \u001b[38;5;66;03m#  series_generator will swap out the underlying data\u001b[39;00m\n\u001b[1;32m    818\u001b[0m             results[i] \u001b[38;5;241m=\u001b[39m results[i]\u001b[38;5;241m.\u001b[39mcopy(deep\u001b[38;5;241m=\u001b[39m\u001b[38;5;28;01mFalse\u001b[39;00m)\n",
      "Cell \u001b[0;32mIn[27], line 30\u001b[0m, in \u001b[0;36mgenerate_report\u001b[0;34m(row)\u001b[0m\n\u001b[1;32m     28\u001b[0m         nodule_diagnosis \u001b[38;5;241m=\u001b[39m nodule_diagnosis_dict\u001b[38;5;241m.\u001b[39mget(nodule, \u001b[38;5;124m'\u001b[39m\u001b[38;5;124munknown\u001b[39m\u001b[38;5;124m'\u001b[39m)\n\u001b[1;32m     29\u001b[0m         nodule_diagnosis_method \u001b[38;5;241m=\u001b[39m nodule_method_dict\u001b[38;5;241m.\u001b[39mget(nodule_method, \u001b[38;5;124m'\u001b[39m\u001b[38;5;124munknown\u001b[39m\u001b[38;5;124m'\u001b[39m)\n\u001b[0;32m---> 30\u001b[0m         report \u001b[38;5;241m+\u001b[39m\u001b[38;5;241m=\u001b[39m \u001b[38;5;124mf\u001b[39m\u001b[38;5;124m\"\u001b[39m\u001b[38;5;124m The \u001b[39m\u001b[38;5;132;01m{\u001b[39;00m\u001b[43mordinal\u001b[49m(i)\u001b[38;5;132;01m}\u001b[39;00m\u001b[38;5;124m nodule was diagnosed as \u001b[39m\u001b[38;5;132;01m{\u001b[39;00mnodule_diagnosis\u001b[38;5;132;01m}\u001b[39;00m\u001b[38;5;124m, which was determined by \u001b[39m\u001b[38;5;132;01m{\u001b[39;00mnodule_diagnosis_method\u001b[38;5;132;01m}\u001b[39;00m\u001b[38;5;124m.\u001b[39m\u001b[38;5;124m\"\u001b[39m\n\u001b[1;32m     32\u001b[0m \u001b[38;5;28;01mreturn\u001b[39;00m report\n\u001b[1;32m     34\u001b[0m \u001b[38;5;28;01mreturn\u001b[39;00m report\n",
      "\u001b[0;31mNameError\u001b[0m: name 'ordinal' is not defined"
     ]
    }
   ],
   "source": [
    "def ordinal(n):\n",
    "    ordinals = {1: 'first', 2: 'second', 3: 'third', 4: 'fourth', 5: 'fifth'}\n",
    "    return ordinals.get(n, f\"{n}th\")\n",
    "\n",
    "def generate_report(row):\n",
    "    diagnosis = diagnosis_dict.get(row['diagnosis'], 'unknown')\n",
    "    diagnosis_method = diagnosis_method_dict.get(row['method'], 'unknown')\n",
    "    primary_tumor_site = row['tumor'] if pd.notna(row['tumor']) else 'unknown'\n",
    "    # nodules 1-5\n",
    "    nodule1 = row['n1'] if pd.notna(row['n1']) else None\n",
    "    nodule1_method = row['n1_method'] if pd.notna(row['n1_method']) else None\n",
    "    nodule2 = row['n2'] if pd.notna(row['n2']) else None\n",
    "    nodule2_method = row['n2_method'] if pd.notna(row['n2_method']) else None\n",
    "    nodule3 = row['n3'] if pd.notna(row['n3']) else None\n",
    "    nodule3_method = row['n3_method'] if pd.notna(row['n3_method']) else None\n",
    "    nodule4 = row['n4'] if pd.notna(row['n4']) else None\n",
    "    nodule4_method = row['n4_method'] if pd.notna(row['n4_method']) else None\n",
    "    nodule5 = row['n5'] if pd.notna(row['n5']) else None\n",
    "    nodule5_method = row['n5_method'] if pd.notna(row['n5_method']) else None\n",
    "    \n",
    "    report = (f\"The patient was diagnosed with {diagnosis}, \")\n",
    "    if diagnosis_method != 'unknown':\n",
    "        report += (f\"which was determined by {diagnosis_method}, \")\n",
    "\n",
    "    report += (f\"The primary tumor site for metastatic disease is {primary_tumor_site}.\")\n",
    "    \n",
    "    for i in range(1, 6):\n",
    "        nodule = row.get(f'n{i}', None)\n",
    "        nodule_method = row.get(f'n{i}_method', None)\n",
    "        \n",
    "        if pd.notna(nodule):\n",
    "            nodule_diagnosis = nodule_diagnosis_dict.get(nodule, 'unknown')\n",
    "            nodule_diagnosis_method = nodule_method_dict.get(nodule_method, 'unknown')\n",
    "            report += f\" The {ordinal(i)} nodule was diagnosed as {nodule_diagnosis}, which was determined by {nodule_diagnosis_method}.\"\n",
    "\n",
    "    return report\n",
    "\n",
    "    return report\n",
    "\n",
    "data['report'] = data.apply(generate_report, axis=1)\n",
    "\n"
   ]
  },
  {
   "cell_type": "code",
   "execution_count": 18,
   "metadata": {},
   "outputs": [
    {
     "name": "stdout",
     "output_type": "stream",
     "text": [
      "0      The patient was diagnosed as having malignant ...\n",
      "1      The patient was diagnosed as having malignant ...\n",
      "2      The patient was diagnosed as having malignant,...\n",
      "3      The patient was diagnosed as having malignant ...\n",
      "4      The patient was diagnosed as having malignant,...\n",
      "                             ...                        \n",
      "152    The patient was diagnosed as having malignant,...\n",
      "153    The patient was diagnosed as having malignant,...\n",
      "154    The patient was diagnosed as having malignant,...\n",
      "155    The patient was diagnosed as having unknown, w...\n",
      "156    The patient was diagnosed as having malignant ...\n",
      "Name: Report, Length: 157, dtype: object\n"
     ]
    }
   ],
   "source": [
    "for report in data['report'].head():\n",
    "    print(report)"
   ]
  },
  {
   "cell_type": "code",
   "execution_count": 23,
   "metadata": {},
   "outputs": [
    {
     "name": "stdout",
     "output_type": "stream",
     "text": [
      "Reports have been successfully generated and saved to patient_report.xlsx\n"
     ]
    }
   ],
   "source": [
    "output_file = 'patient_report.xlsx'\n",
    "data[['pid', 'report']].to_excel(output_file, index=False)\n",
    "\n",
    "print(f\"Reports have been successfully generated and saved to {output_file}\")"
   ]
  }
 ],
 "metadata": {
  "kernelspec": {
   "display_name": "DL_project",
   "language": "python",
   "name": "python3"
  },
  "language_info": {
   "codemirror_mode": {
    "name": "ipython",
    "version": 3
   },
   "file_extension": ".py",
   "mimetype": "text/x-python",
   "name": "python",
   "nbconvert_exporter": "python",
   "pygments_lexer": "ipython3",
   "version": "3.10.14"
  }
 },
 "nbformat": 4,
 "nbformat_minor": 2
}
